{
 "cells": [
  {
   "cell_type": "code",
   "execution_count": 32,
   "metadata": {},
   "outputs": [],
   "source": [
    "import os\n",
    "import re\n",
    "import cv2\n",
    "import math\n",
    "import sys\n",
    "import numpy as np\n",
    "import seaborn as sns\n",
    "import matplotlib.pyplot as plt\n",
    "from sklearn.preprocessing import StandardScaler\n",
    "from sklearn.cluster import DBSCAN\n",
    "from AAO_temp_help_func import *"
   ]
  },
  {
   "cell_type": "code",
   "execution_count": 9,
   "metadata": {},
   "outputs": [
    {
     "name": "stdout",
     "output_type": "stream",
     "text": [
      "0.612\n"
     ]
    },
    {
     "data": {
      "image/png": "[encoded data removed]",
      "text/plain": [
       "<Figure size 432x288 with 1 Axes>"
      ]
     },
     "metadata": {
      "needs_background": "light"
     },
     "output_type": "display_data"
    }
   ],
   "source": [
    "# Define the scale bar for all images in the directory \n",
    "img_1 = cv2.imread('img/1_1_q001.tif', cv2.IMREAD_GRAYSCALE)\n",
    "thresh_row = cut_scale_bar(img_1)\n",
    "length_pixel = dist_btw_scale_bar(thresh_row,255)\n",
    "pixel_to_nm = translate_pixel_to_nm(length_pixel, 1E3)\n",
    "print(pixel_to_nm)"
   ]
  },
  {
   "cell_type": "code",
   "execution_count": 10,
   "metadata": {},
   "outputs": [],
   "source": [
    "directory = 'img/'\n",
    "\n",
    "f_total = []\n",
    "\n",
    "for filename in os.listdir(directory):\n",
    "    f = os.path.join(directory, filename)\n",
    "    # checking if it is a file\n",
    "    if os.path.isfile(f):\n",
    "        f_total.append(f)"
   ]
  },
  {
   "cell_type": "code",
   "execution_count": 11,
   "metadata": {},
   "outputs": [],
   "source": [
    "hole_density_map = {}\n",
    "avg_diam_map = {}\n",
    "for img in f_total:\n",
    "    original_img = cv2.imread(img, cv2.IMREAD_GRAYSCALE)\n",
    "    cropped_image = original_img[0:1785, :]\n",
    "    ret,thresh1 = cv2.threshold(cropped_image,80,255,cv2.THRESH_BINARY)\n",
    "    kernel = np.ones((5, 5), np.uint8) \n",
    "    img_adaptive = cv2.erode(thresh1, kernel, iterations=2) \n",
    "    cluster_centers = find_clusters(img_adaptive)\n",
    "    cluster_large_holes,num_holes = remove_small_holes(cluster_centers)\n",
    "    cen_x,cen_y = annotate_image_with_labels(cluster_large_holes,original_img)\n",
    "    hole_density_map[img] = num_holes\n",
    "\n",
    "    cluster_size = []\n",
    "    diameter = []\n",
    "\n",
    "    for label,coords in cluster_large_holes.items():\n",
    "        cluster_size.append(len(cluster_large_holes[label])/pixel_to_nm**2)\n",
    "        diameter.append(2*math.sqrt(len(cluster_large_holes[label])/pixel_to_nm**2/3.14))\n",
    "\n",
    "    avg_diam = np.average(diameter)\n",
    "    avg_diam_map[img] = avg_diam\n",
    "    \n",
    "    \n",
    "\n",
    "\n",
    "\n",
    "\n",
    "\n"
   ]
  },
  {
   "cell_type": "code",
   "execution_count": 13,
   "metadata": {},
   "outputs": [
    {
     "data": {
      "text/plain": [
       "dict_items([('img/5_3_q003.tif', 274), ('img/1_1_q001.tif', 552), ('img/2_4_q004.tif', 592), ('img/3_1_q010.tif', 490)])"
      ]
     },
     "execution_count": 13,
     "metadata": {},
     "output_type": "execute_result"
    }
   ],
   "source": [
    "hole_density_map.items()"
   ]
  },
  {
   "cell_type": "code",
   "execution_count": 7,
   "metadata": {},
   "outputs": [
    {
     "data": {
      "text/plain": [
       "{'img/5_3_q003.tif': 274,\n",
       " 'img/1_1_q001.tif': 552,\n",
       " 'img/2_4_q004.tif': 592,\n",
       " 'img/3_1_q010.tif': 490}"
      ]
     },
     "execution_count": 7,
     "metadata": {},
     "output_type": "execute_result"
    }
   ],
   "source": [
    "arr = np.zeros((2,2))\n",
    "\n",
    "for i in range(len(arr)):\n",
    "    for j in range(len(arr)):\n",
    "        row = arr[i]\n",
    "        row[j] = hole_density_map\n"
   ]
  },
  {
   "cell_type": "code",
   "execution_count": 48,
   "metadata": {},
   "outputs": [
    {
     "data": {
      "text/plain": [
       "{(3, 5): 274, (1, 1): 552, (4, 2): 592, (1, 3): 490}"
      ]
     },
     "execution_count": 48,
     "metadata": {},
     "output_type": "execute_result"
    }
   ],
   "source": [
    "hole_density_dict = {}\n",
    "for img, value in hole_density_map.items():\n",
    "    hole_density_dict[(int(img[6]),int(img[4]))] = value\n",
    "\n",
    "hole_density_dict\n",
    "    "
   ]
  },
  {
   "cell_type": "code",
   "execution_count": 47,
   "metadata": {},
   "outputs": [
    {
     "data": {
      "text/plain": [
       "5"
      ]
     },
     "execution_count": 47,
     "metadata": {},
     "output_type": "execute_result"
    }
   ],
   "source": [
    "len(hole_density_array[0])"
   ]
  },
  {
   "cell_type": "code",
   "execution_count": 54,
   "metadata": {},
   "outputs": [
    {
     "name": "stdout",
     "output_type": "stream",
     "text": [
      "no\n",
      "no\n",
      "no\n",
      "no\n",
      "no\n",
      "no\n",
      "no\n",
      "no\n",
      "no\n",
      "no\n",
      "no\n",
      "no\n",
      "no\n",
      "no\n",
      "no\n",
      "no\n"
     ]
    },
    {
     "data": {
      "text/plain": [
       "array([[552.,   0., 490.,   0.,   0.],\n",
       "       [  0.,   0.,   0.,   0.,   0.],\n",
       "       [  0.,   0.,   0.,   0., 274.],\n",
       "       [  0., 592.,   0.,   0.,   0.]])"
      ]
     },
     "execution_count": 54,
     "metadata": {},
     "output_type": "execute_result"
    }
   ],
   "source": [
    "hole_density_array = np.zeros((4,5))\n",
    "\n",
    "for i in range(len(hole_density_array)):\n",
    "    for j in range(len(hole_density_array[0])):\n",
    "        #if (i+1,j+1) == (3,5):\n",
    "        #    print(hole_density_dict[(3,5)])\n",
    "        if (i+1,j+1) not in hole_density_dict:\n",
    "            print(\"no\")\n",
    "\n",
    "            pass\n",
    "        else:\n",
    "            hole_density_array[i][j] = hole_density_dict[(i+1,j+1)]\n",
    "\n",
    "\n",
    "hole_density_array"
   ]
  },
  {
   "cell_type": "code",
   "execution_count": 55,
   "metadata": {},
   "outputs": [
    {
     "data": {
      "image/png": "[encoded data removed]",
      "text/plain": [
       "<Figure size 432x288 with 2 Axes>"
      ]
     },
     "metadata": {
      "needs_background": "light"
     },
     "output_type": "display_data"
    }
   ],
   "source": [
    "ax = sns.heatmap(hole_density_array, linewidth=0.5)\n",
    "plt.show()"
   ]
  },
  {
   "cell_type": "code",
   "execution_count": null,
   "metadata": {},
   "outputs": [],
   "source": []
  }
 ],
 "metadata": {
  "kernelspec": {
   "display_name": "Python 3",
   "language": "python",
   "name": "python3"
  },
  "language_info": {
   "codemirror_mode": {
    "name": "ipython",
    "version": 3
   },
   "file_extension": ".py",
   "mimetype": "text/x-python",
   "name": "python",
   "nbconvert_exporter": "python",
   "pygments_lexer": "ipython3",
   "version": "3.10.0"
  }
 },
 "nbformat": 4,
 "nbformat_minor": 2
}

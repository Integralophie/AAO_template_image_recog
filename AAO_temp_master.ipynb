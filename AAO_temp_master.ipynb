{
 "cells": [
  {
   "cell_type": "code",
   "execution_count": 2,
   "metadata": {},
   "outputs": [],
   "source": [
    "import os\n",
    "import re\n",
    "import cv2\n",
    "import math\n",
    "import sys\n",
    "import numpy as np\n",
    "import seaborn as sns\n",
    "import matplotlib.pyplot as plt\n",
    "from sklearn.preprocessing import StandardScaler\n",
    "from sklearn.cluster import DBSCAN\n",
    "from scipy.spatial import KDTree\n",
    "from AAO_temp_help_func import *"
   ]
  },
  {
   "cell_type": "code",
   "execution_count": 3,
   "metadata": {},
   "outputs": [
    {
     "name": "stdout",
     "output_type": "stream",
     "text": [
      "0.612\n"
     ]
    },
    {
     "data": {
      "image/png": "[encoded data removed]",
      "text/plain": [
       "<Figure size 432x288 with 1 Axes>"
      ]
     },
     "metadata": {
      "needs_background": "light"
     },
     "output_type": "display_data"
    }
   ],
   "source": [
    "# Define the scale bar for all images in the directory \n",
    "img_1 = cv2.imread('img/1_1_q001.tif', cv2.IMREAD_GRAYSCALE)\n",
    "thresh_row = cut_scale_bar(img_1)\n",
    "length_pixel = dist_btw_scale_bar(thresh_row,255)\n",
    "pixel_to_nm = translate_pixel_to_nm(length_pixel, 1E3)\n",
    "print(pixel_to_nm)"
   ]
  },
  {
   "cell_type": "code",
   "execution_count": 4,
   "metadata": {},
   "outputs": [
    {
     "data": {
      "text/plain": [
       "['img/3_2_q013.tif',\n",
       " 'img/1_2_q004.tif',\n",
       " 'img/4_1_q005.tif',\n",
       " 'img/4_1_q001.tif',\n",
       " 'img/2_1_q014.tif',\n",
       " 'img/4_4_q009.tif',\n",
       " 'img/2_1_q015.tif',\n",
       " 'img/4_1_q003.tif',\n",
       " 'img/4_3_q005.tif',\n",
       " 'img/3_2_q012.tif',\n",
       " 'img/1_1_q002.tif',\n",
       " 'img/2_3_q002.tif',\n",
       " 'img/5_1_q002.tif',\n",
       " 'img/5_4_q005.tif',\n",
       " 'img/3_1_q008.tif',\n",
       " 'img/1_2_q005.tif',\n",
       " 'img/4_4_q006.tif',\n",
       " 'img/1_3_q002.tif',\n",
       " 'img/2_1_q013.tif',\n",
       " 'img/4_3_q003.tif',\n",
       " 'img/4_1_q004.tif',\n",
       " 'img/3_2_q014.tif',\n",
       " 'img/3_4_q004.tif',\n",
       " 'img/4_1_q002.tif',\n",
       " 'img/2_4_q001.tif',\n",
       " 'img/3_4_q003.tif',\n",
       " 'img/4_3_q002.tif',\n",
       " 'img/3_1_q009.tif',\n",
       " 'img/5_3_q004.tif',\n",
       " 'img/3_3_q002.tif',\n",
       " 'img/5_4_q004.tif',\n",
       " 'img/5_2_q004.tif',\n",
       " 'img/2_2_q001.tif',\n",
       " 'img/1_4_q007.tif',\n",
       " 'img/4_2_q004.tif',\n",
       " 'img/3_4_q005.tif',\n",
       " 'img/2_2_q002.tif',\n",
       " 'img/3_2_q011.tif',\n",
       " 'img/2_2_q003.tif',\n",
       " 'img/5_3_q001.tif',\n",
       " 'img/3_2_q015.tif',\n",
       " 'img/4_2_q002.tif',\n",
       " 'img/3_3_q001.tif',\n",
       " 'img/5_2_q005.tif',\n",
       " 'img/5_1_q004.tif',\n",
       " 'img/4_3_q001.tif',\n",
       " 'img/4_4_q008.tif',\n",
       " 'img/2_1_q011.tif',\n",
       " 'img/1_4_q006.tif',\n",
       " 'img/2_3_q004.tif',\n",
       " 'img/3_3_q004.tif',\n",
       " 'img/1_2_q002.tif',\n",
       " 'img/2_4_q002.tif',\n",
       " 'img/2_2_q005.tif',\n",
       " 'img/4_4_q007.tif',\n",
       " 'img/5_3_q003.tif',\n",
       " 'img/5_4_q003.tif',\n",
       " 'img/1_3_q001.tif',\n",
       " 'img/4_2_q005.tif',\n",
       " 'img/2_2_q004.tif',\n",
       " 'img/1_2_q001.tif',\n",
       " 'img/4_4_q010.tif',\n",
       " 'img/1_4_q010.tif',\n",
       " 'img/5_4_q001.tif',\n",
       " 'img/3_1_q007.tif',\n",
       " 'img/1_1_q001.tif',\n",
       " 'img/1_4_q009.tif',\n",
       " 'img/5_3_q005.tif',\n",
       " 'img/2_4_q004.tif',\n",
       " 'img/5_1_q003.tif',\n",
       " 'img/1_4_q008.tif',\n",
       " 'img/2_1_q012.tif',\n",
       " 'img/1_3_q003.tif',\n",
       " 'img/5_1_q005.tif',\n",
       " 'img/2_3_q001.tif',\n",
       " 'img/5_2_q001.tif',\n",
       " 'img/5_1_q001.tif',\n",
       " 'img/1_3_q004.tif',\n",
       " 'img/5_3_q002.tif',\n",
       " 'img/1_1_q005.tif',\n",
       " 'img/3_1_q006.tif',\n",
       " 'img/3_4_q001.tif',\n",
       " 'img/1_2_q003.tif',\n",
       " 'img/4_2_q003.tif',\n",
       " 'img/2_3_q003.tif',\n",
       " 'img/2_4_q005.tif',\n",
       " 'img/5_2_q003.tif',\n",
       " 'img/4_2_q001.tif',\n",
       " 'img/2_4_q003.tif',\n",
       " 'img/3_1_q010.tif',\n",
       " 'img/3_4_q002.tif',\n",
       " 'img/3_3_q005.tif',\n",
       " 'img/1_1_q003.tif',\n",
       " 'img/4_3_q004.tif',\n",
       " 'img/3_3_q003.tif',\n",
       " 'img/5_4_q002.tif',\n",
       " 'img/1_3_q005.tif',\n",
       " 'img/2_3_q005.tif',\n",
       " 'img/5_2_q002.tif']"
      ]
     },
     "execution_count": 4,
     "metadata": {},
     "output_type": "execute_result"
    }
   ],
   "source": [
    "directory = 'img/'\n",
    "\n",
    "f_total = []\n",
    "\n",
    "for filename in os.listdir(directory):\n",
    "    f = os.path.join(directory, filename)\n",
    "    # checking if it is a file\n",
    "    if os.path.isfile(f):\n",
    "        if f[-1] == \"f\":\n",
    "            f_total.append(f)\n",
    "\n",
    "\n",
    "f_total"
   ]
  },
  {
   "cell_type": "code",
   "execution_count": 6,
   "metadata": {},
   "outputs": [
    {
     "name": "stdout",
     "output_type": "stream",
     "text": [
      "img/3_2_q013.tif is done!\n",
      "1% is done!\n",
      "img/1_2_q004.tif is done!\n",
      "2% is done!\n",
      "img/4_1_q005.tif is done!\n",
      "3% is done!\n",
      "img/4_1_q001.tif is done!\n",
      "4% is done!\n",
      "img/2_1_q014.tif is done!\n",
      "5% is done!\n",
      "img/4_4_q009.tif is done!\n",
      "6% is done!\n",
      "img/2_1_q015.tif is done!\n",
      "7% is done!\n",
      "img/4_1_q003.tif is done!\n",
      "8% is done!\n",
      "img/4_3_q005.tif is done!\n",
      "9% is done!\n",
      "img/3_2_q012.tif is done!\n",
      "10% is done!\n",
      "img/1_1_q002.tif is done!\n",
      "11% is done!\n",
      "img/2_3_q002.tif is done!\n",
      "12% is done!\n",
      "changed threshold\n",
      "img/5_1_q002.tif is done!\n",
      "13% is done!\n",
      "img/5_4_q005.tif is done!\n",
      "14% is done!\n",
      "img/3_1_q008.tif is done!\n",
      "15% is done!\n",
      "img/1_2_q005.tif is done!\n",
      "16% is done!\n",
      "img/4_4_q006.tif is done!\n",
      "17% is done!\n",
      "img/1_3_q002.tif is done!\n",
      "18% is done!\n",
      "img/2_1_q013.tif is done!\n",
      "19% is done!\n",
      "img/4_3_q003.tif is done!\n",
      "20% is done!\n",
      "img/4_1_q004.tif is done!\n",
      "21% is done!\n",
      "img/3_2_q014.tif is done!\n",
      "22% is done!\n",
      "img/3_4_q004.tif is done!\n",
      "23% is done!\n",
      "img/4_1_q002.tif is done!\n",
      "24% is done!\n",
      "img/2_4_q001.tif is done!\n",
      "25% is done!\n",
      "img/3_4_q003.tif is done!\n",
      "26% is done!\n",
      "img/4_3_q002.tif is done!\n",
      "27% is done!\n",
      "img/3_1_q009.tif is done!\n",
      "28% is done!\n",
      "changed threshold\n",
      "img/5_3_q004.tif is done!\n",
      "29% is done!\n",
      "img/3_3_q002.tif is done!\n",
      "30% is done!\n",
      "img/5_4_q004.tif is done!\n",
      "31% is done!\n",
      "img/5_2_q004.tif is done!\n",
      "32% is done!\n",
      "img/2_2_q001.tif is done!\n",
      "33% is done!\n",
      "img/1_4_q007.tif is done!\n",
      "34% is done!\n",
      "img/4_2_q004.tif is done!\n",
      "35% is done!\n",
      "img/3_4_q005.tif is done!\n",
      "36% is done!\n",
      "img/2_2_q002.tif is done!\n",
      "37% is done!\n",
      "img/3_2_q011.tif is done!\n",
      "38% is done!\n",
      "img/2_2_q003.tif is done!\n",
      "39% is done!\n",
      "changed threshold\n",
      "img/5_3_q001.tif is done!\n",
      "40% is done!\n",
      "img/3_2_q015.tif is done!\n",
      "41% is done!\n",
      "img/4_2_q002.tif is done!\n",
      "42% is done!\n",
      "img/3_3_q001.tif is done!\n",
      "43% is done!\n",
      "img/5_2_q005.tif is done!\n",
      "44% is done!\n",
      "changed threshold\n",
      "img/5_1_q004.tif is done!\n",
      "45% is done!\n",
      "img/4_3_q001.tif is done!\n",
      "46% is done!\n",
      "img/4_4_q008.tif is done!\n",
      "47% is done!\n",
      "img/2_1_q011.tif is done!\n",
      "48% is done!\n",
      "img/1_4_q006.tif is done!\n",
      "49% is done!\n",
      "img/2_3_q004.tif is done!\n",
      "50% is done!\n",
      "img/3_3_q004.tif is done!\n",
      "51% is done!\n",
      "img/1_2_q002.tif is done!\n",
      "52% is done!\n",
      "img/2_4_q002.tif is done!\n",
      "53% is done!\n",
      "img/2_2_q005.tif is done!\n",
      "54% is done!\n",
      "img/4_4_q007.tif is done!\n",
      "55% is done!\n",
      "changed threshold\n",
      "img/5_3_q003.tif is done!\n",
      "56% is done!\n",
      "img/5_4_q003.tif is done!\n",
      "57% is done!\n",
      "img/1_3_q001.tif is done!\n",
      "58% is done!\n",
      "img/4_2_q005.tif is done!\n",
      "59% is done!\n",
      "img/2_2_q004.tif is done!\n",
      "60% is done!\n",
      "img/1_2_q001.tif is done!\n",
      "61% is done!\n",
      "img/4_4_q010.tif is done!\n",
      "62% is done!\n",
      "img/1_4_q010.tif is done!\n",
      "63% is done!\n",
      "img/5_4_q001.tif is done!\n",
      "64% is done!\n",
      "img/3_1_q007.tif is done!\n",
      "65% is done!\n",
      "img/1_1_q001.tif is done!\n",
      "66% is done!\n",
      "img/1_4_q009.tif is done!\n",
      "67% is done!\n",
      "changed threshold\n",
      "img/5_3_q005.tif is done!\n",
      "68% is done!\n",
      "img/2_4_q004.tif is done!\n",
      "69% is done!\n",
      "changed threshold\n",
      "img/5_1_q003.tif is done!\n",
      "70% is done!\n",
      "img/1_4_q008.tif is done!\n",
      "71% is done!\n",
      "img/2_1_q012.tif is done!\n",
      "72% is done!\n",
      "img/1_3_q003.tif is done!\n",
      "73% is done!\n",
      "changed threshold\n",
      "img/5_1_q005.tif is done!\n",
      "74% is done!\n",
      "img/2_3_q001.tif is done!\n",
      "75% is done!\n",
      "img/5_2_q001.tif is done!\n",
      "76% is done!\n",
      "changed threshold\n",
      "img/5_1_q001.tif is done!\n",
      "77% is done!\n",
      "img/1_3_q004.tif is done!\n",
      "78% is done!\n",
      "changed threshold\n",
      "img/5_3_q002.tif is done!\n",
      "79% is done!\n",
      "img/1_1_q005.tif is done!\n",
      "80% is done!\n",
      "img/3_1_q006.tif is done!\n",
      "81% is done!\n",
      "img/3_4_q001.tif is done!\n",
      "82% is done!\n",
      "img/1_2_q003.tif is done!\n",
      "83% is done!\n",
      "img/4_2_q003.tif is done!\n",
      "84% is done!\n",
      "img/2_3_q003.tif is done!\n",
      "85% is done!\n",
      "img/2_4_q005.tif is done!\n",
      "86% is done!\n",
      "img/5_2_q003.tif is done!\n",
      "87% is done!\n",
      "img/4_2_q001.tif is done!\n",
      "88% is done!\n",
      "img/2_4_q003.tif is done!\n",
      "89% is done!\n",
      "img/3_1_q010.tif is done!\n",
      "90% is done!\n",
      "img/3_4_q002.tif is done!\n",
      "91% is done!\n",
      "img/3_3_q005.tif is done!\n",
      "92% is done!\n",
      "img/1_1_q003.tif is done!\n",
      "93% is done!\n",
      "img/4_3_q004.tif is done!\n",
      "94% is done!\n",
      "img/3_3_q003.tif is done!\n",
      "95% is done!\n",
      "img/5_4_q002.tif is done!\n",
      "96% is done!\n",
      "img/1_3_q005.tif is done!\n",
      "97% is done!\n",
      "img/2_3_q005.tif is done!\n",
      "98% is done!\n",
      "img/5_2_q002.tif is done!\n",
      "99% is done!\n"
     ]
    }
   ],
   "source": [
    "hole_density_map = {}\n",
    "avg_diam_map = {}\n",
    "avg_nn_dist_map = {}\n",
    "diam_master = []\n",
    "nn_dist_master = []\n",
    "\n",
    "for img in f_total:\n",
    "    original_img = cv2.imread(img, cv2.IMREAD_GRAYSCALE)\n",
    "    cropped_image = original_img[0:1785, :]\n",
    "    if img[4] == '5':\n",
    "        if img[6] == '1' or img[6] == '3':\n",
    "            ret,thresh1 = cv2.threshold(cropped_image,40,255,cv2.THRESH_BINARY)\n",
    "            print(\"changed threshold\")\n",
    "    else:        \n",
    "        ret,thresh1 = cv2.threshold(cropped_image,80,255,cv2.THRESH_BINARY)\n",
    "    kernel = np.ones((5, 5), np.uint8) \n",
    "    img_adaptive = cv2.erode(thresh1, kernel, iterations=2) \n",
    "    cluster_centers = find_clusters(img_adaptive)\n",
    "    cluster_large_holes,num_holes = remove_small_holes(cluster_centers)\n",
    "    cen_x,cen_y = annotate_image_with_labels(cluster_large_holes,original_img)\n",
    "\n",
    "    # define hole density dict\n",
    "    hole_density_map[img] = num_holes\n",
    "\n",
    "\n",
    "\n",
    "    cluster_size = []\n",
    "    diameter = []\n",
    "\n",
    "    for label,coords in cluster_large_holes.items():\n",
    "        cluster_size.append(len(cluster_large_holes[label])/pixel_to_nm**2)\n",
    "        diam = 2*math.sqrt(len(cluster_large_holes[label])/pixel_to_nm**2/3.14)\n",
    "        diameter.append(diam)\n",
    "        diam_master.append(diam)\n",
    "\n",
    "    avg_diam = np.average(diameter)\n",
    "    # define avg diameter dict\n",
    "    avg_diam_map[img] = avg_diam\n",
    "\n",
    "\n",
    "    avg_nn_dist, nn_dist = nearest_neighbour_dist(cen_x,cen_y,pixel_len=pixel_to_nm)\n",
    "    # define avg nearest neighbour distance\n",
    "    avg_nn_dist_map[img] = avg_nn_dist\n",
    "    nn_dist_master.append(nn_dist)\n",
    "    \n",
    "\n",
    "    print(img + \" is done!\")\n",
    "    print(str(len(avg_nn_dist_map)) + \"% is done!\")\n",
    "    \n"
   ]
  },
  {
   "cell_type": "code",
   "execution_count": 16,
   "metadata": {},
   "outputs": [],
   "source": [
    "nn_dist_master_list = nn_dist_master[0].tolist()"
   ]
  },
  {
   "cell_type": "code",
   "execution_count": 17,
   "metadata": {},
   "outputs": [],
   "source": [
    "import json\n",
    "\n",
    "json.dump(hole_density_map, open( \"hole_density_map.json\", 'w' ) )\n",
    "json.dump(avg_diam_map, open( \"avg_diam_map.json\", 'w' ) )\n",
    "json.dump(avg_nn_dist_map, open( \"avg_nn_dist_map.json\", 'w' ) )\n",
    "\n",
    "json.dump(diam_master, open(\"diam_master.json\", \"w\"))\n",
    "json.dump(nn_dist_master_list, open(\"nn_dist_master.json\", \"w\"))"
   ]
  },
  {
   "cell_type": "code",
   "execution_count": null,
   "metadata": {},
   "outputs": [],
   "source": [
    "import json\n",
    "with open('hole_density_map.json') as f:\n",
    "    hole_density_map = json.load(f)\n",
    "\n",
    "with open('avg_diam_map.json') as f:\n",
    "    avg_diam_map = json.load(f)\n",
    "\n",
    "with open('avg_nn_dist_map.json') as f:\n",
    "    avg_nn_dist_map = json.load(f)"
   ]
  },
  {
   "cell_type": "code",
   "execution_count": null,
   "metadata": {},
   "outputs": [],
   "source": [
    "hole_density_dict_norm = switch_filename_to_coord_tuple(hole_density_map)\n",
    "avg_diam_dict_norm = switch_filename_to_coord_tuple(avg_diam_map)\n",
    "avg_nn_dist_dict_norm = switch_filename_to_coord_tuple(avg_nn_dist_map)\n",
    "\n",
    "hole_density_array = switch_dict_to_ndarray(hole_density_dict_norm)\n",
    "avg_diam_array = switch_dict_to_ndarray(avg_diam_dict_norm)\n",
    "avg_nn_dist_array = switch_dict_to_ndarray(avg_nn_dist_dict_norm)"
   ]
  },
  {
   "cell_type": "code",
   "execution_count": null,
   "metadata": {},
   "outputs": [
    {
     "data": {
      "text/plain": [
       "12200435.729847495"
      ]
     },
     "execution_count": 21,
     "metadata": {},
     "output_type": "execute_result"
    }
   ],
   "source": [
    "total_area = 2560/0.612*1785/0.612\n",
    "total_area"
   ]
  },
  {
   "cell_type": "code",
   "execution_count": null,
   "metadata": {},
   "outputs": [],
   "source": [
    "hole_density_array = hole_density_array / total_area * 1E6\n",
    "np.savetxt(\"hole_density.csv\", hole_density_array, delimiter=\",\")\n",
    "np.savetxt(\"avg_diam.csv\", avg_diam_array, delimiter=\",\")\n",
    "np.savetxt(\"avg_nn_dist.csv\", avg_nn_dist_array, delimiter=\",\")"
   ]
  },
  {
   "cell_type": "code",
   "execution_count": null,
   "metadata": {},
   "outputs": [
    {
     "data": {
      "text/plain": [
       "array([[35.96183036, 44.50660714, 51.12932143, 32.88407143, 35.55610714],\n",
       "       [32.11360714, 46.37539286, 47.39175   , 45.01478571, 47.68682143],\n",
       "       [36.98228571, 46.44096429, 43.70335714, 40.99853571, 30.32678571],\n",
       "       [42.60503571, 45.22789286, 42.50667857, 45.24428571, 42.50667857]])"
      ]
     },
     "execution_count": 23,
     "metadata": {},
     "output_type": "execute_result"
    }
   ],
   "source": [
    "hole_density_array"
   ]
  },
  {
   "cell_type": "code",
   "execution_count": null,
   "metadata": {},
   "outputs": [
    {
     "data": {
      "image/png": "[encoded data removed]",
      "text/plain": [
       "<Figure size 432x288 with 2 Axes>"
      ]
     },
     "metadata": {
      "needs_background": "light"
     },
     "output_type": "display_data"
    }
   ],
   "source": [
    "ax = sns.heatmap(hole_density_array, linewidth=1)\n",
    "plt.title(\"Number of Holes per $um^2$\")\n",
    "plt.savefig(\"hole_density.png\", facecolor = \"white\")\n",
    "plt.show()\n"
   ]
  },
  {
   "cell_type": "code",
   "execution_count": null,
   "metadata": {},
   "outputs": [
    {
     "data": {
      "image/png": "[encoded data removed]",
      "text/plain": [
       "<Figure size 432x288 with 2 Axes>"
      ]
     },
     "metadata": {
      "needs_background": "light"
     },
     "output_type": "display_data"
    }
   ],
   "source": [
    "ax = sns.heatmap(avg_diam_array, linewidth=1,vmin=60,vmax=100)\n",
    "plt.title(\"Average diameter distribution on wafer\")\n",
    "plt.savefig(\"Average_diameter_distribution.png\", facecolor = \"white\")\n",
    "plt.show()"
   ]
  },
  {
   "cell_type": "code",
   "execution_count": null,
   "metadata": {},
   "outputs": [
    {
     "data": {
      "image/png": "[encoded data removed]",
      "text/plain": [
       "<Figure size 432x288 with 2 Axes>"
      ]
     },
     "metadata": {
      "needs_background": "light"
     },
     "output_type": "display_data"
    }
   ],
   "source": [
    "ax = sns.heatmap(avg_nn_dist_array, linewidth=1)\n",
    "plt.title(\"Average neighbouring distance (6 nearest neighbours) distribution on wafer\")\n",
    "plt.savefig(\"avg_neighbouring_dist.png\", facecolor = \"white\")\n",
    "plt.show()"
   ]
  },
  {
   "cell_type": "code",
   "execution_count": null,
   "metadata": {},
   "outputs": [],
   "source": []
  }
 ],
 "metadata": {
  "kernelspec": {
   "display_name": "Python 3",
   "language": "python",
   "name": "python3"
  },
  "language_info": {
   "codemirror_mode": {
    "name": "ipython",
    "version": 3
   },
   "file_extension": ".py",
   "mimetype": "text/x-python",
   "name": "python",
   "nbconvert_exporter": "python",
   "pygments_lexer": "ipython3",
   "version": "3.10.0"
  }
 },
 "nbformat": 4,
 "nbformat_minor": 2
}
